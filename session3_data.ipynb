{
 "cells": [
  {
   "cell_type": "code",
   "execution_count": 3,
   "metadata": {},
   "outputs": [],
   "source": [
    "# exercise 1\n",
    "import pandas as pd \n",
    "import numpy as np \n",
    "data = pd.read_csv('brazilian_amazon_fires_1999_2019.csv')"
   ]
  },
  {
   "cell_type": "code",
   "execution_count": 15,
   "metadata": {},
   "outputs": [
    {
     "name": "stdout",
     "output_type": "stream",
     "text": [
      "   year  month        state   latitude  longitude  firespots\n",
      "0  1999      1     AMAZONAS  -2.371113 -59.899933          3\n",
      "1  1999      1     MARANHAO  -2.257395 -45.487831         36\n",
      "2  1999      1  MATO GROSSO -12.660633 -55.057989         18\n"
     ]
    }
   ],
   "source": [
    "# exercise 2\n",
    "import pandas as pd \n",
    "import numpy as np\n",
    "data = pd.read_csv('brazilian_amazon_fires_1999_2019.csv')\n",
    "rows  = pd.read_csv(\"brazilian_amazon_fires_1999_2019.csv\", nrows=3, usecols=[\"year\",\"month\",\"state\", \"latitude\", \"longitude\", \"firespots\"])\n",
    "print (rows)"
   ]
  },
  {
   "cell_type": "code",
   "execution_count": 3,
   "metadata": {},
   "outputs": [
    {
     "data": {
      "text/plain": [
       "np.float64(-5.439281597059973)"
      ]
     },
     "execution_count": 3,
     "metadata": {},
     "output_type": "execute_result"
    }
   ],
   "source": [
    "# exercise 3\n",
    "import pandas as pd \n",
    "\n",
    "amazonfires = pd.read_csv('brazilian_amazon_fires_1999_2019.csv')\n",
    "\n",
    "amazonfires[\"latitude\"].mean()"
   ]
  },
  {
   "cell_type": "code",
   "execution_count": 9,
   "metadata": {},
   "outputs": [
    {
     "data": {
      "text/plain": [
       "np.float64(-56.51031408662909)"
      ]
     },
     "execution_count": 9,
     "metadata": {},
     "output_type": "execute_result"
    }
   ],
   "source": [
    "import pandas as pd \n",
    "\n",
    "amazonfires = pd.read_csv('brazilian_amazon_fires_1999_2019.csv')\n",
    "\n",
    "amazonfires[\"longitude\"].mean()\n"
   ]
  },
  {
   "cell_type": "code",
   "execution_count": 12,
   "metadata": {},
   "outputs": [
    {
     "data": {
      "text/plain": [
       "year         2009.0\n",
       "firespots     121.0\n",
       "dtype: float64"
      ]
     },
     "execution_count": 12,
     "metadata": {},
     "output_type": "execute_result"
    }
   ],
   "source": [
    "import pandas as pd \n",
    "\n",
    "amazonfires = pd.read_csv('brazilian_amazon_fires_1999_2019.csv')\n",
    "\n",
    "amazonfires[[\"year\",\"firespots\"]].median()"
   ]
  },
  {
   "cell_type": "code",
   "execution_count": 13,
   "metadata": {},
   "outputs": [
    {
     "data": {
      "text/html": [
       "<div>\n",
       "<style scoped>\n",
       "    .dataframe tbody tr th:only-of-type {\n",
       "        vertical-align: middle;\n",
       "    }\n",
       "\n",
       "    .dataframe tbody tr th {\n",
       "        vertical-align: top;\n",
       "    }\n",
       "\n",
       "    .dataframe thead th {\n",
       "        text-align: right;\n",
       "    }\n",
       "</style>\n",
       "<table border=\"1\" class=\"dataframe\">\n",
       "  <thead>\n",
       "    <tr style=\"text-align: right;\">\n",
       "      <th></th>\n",
       "      <th>year</th>\n",
       "      <th>firespots</th>\n",
       "    </tr>\n",
       "  </thead>\n",
       "  <tbody>\n",
       "    <tr>\n",
       "      <th>count</th>\n",
       "      <td>2104.000000</td>\n",
       "      <td>2104.000000</td>\n",
       "    </tr>\n",
       "    <tr>\n",
       "      <th>mean</th>\n",
       "      <td>2009.267110</td>\n",
       "      <td>1167.417776</td>\n",
       "    </tr>\n",
       "    <tr>\n",
       "      <th>std</th>\n",
       "      <td>5.963029</td>\n",
       "      <td>2959.558714</td>\n",
       "    </tr>\n",
       "    <tr>\n",
       "      <th>min</th>\n",
       "      <td>1999.000000</td>\n",
       "      <td>1.000000</td>\n",
       "    </tr>\n",
       "    <tr>\n",
       "      <th>25%</th>\n",
       "      <td>2004.000000</td>\n",
       "      <td>16.000000</td>\n",
       "    </tr>\n",
       "    <tr>\n",
       "      <th>50%</th>\n",
       "      <td>2009.000000</td>\n",
       "      <td>121.000000</td>\n",
       "    </tr>\n",
       "    <tr>\n",
       "      <th>75%</th>\n",
       "      <td>2014.000000</td>\n",
       "      <td>755.000000</td>\n",
       "    </tr>\n",
       "    <tr>\n",
       "      <th>max</th>\n",
       "      <td>2019.000000</td>\n",
       "      <td>37926.000000</td>\n",
       "    </tr>\n",
       "  </tbody>\n",
       "</table>\n",
       "</div>"
      ],
      "text/plain": [
       "              year     firespots\n",
       "count  2104.000000   2104.000000\n",
       "mean   2009.267110   1167.417776\n",
       "std       5.963029   2959.558714\n",
       "min    1999.000000      1.000000\n",
       "25%    2004.000000     16.000000\n",
       "50%    2009.000000    121.000000\n",
       "75%    2014.000000    755.000000\n",
       "max    2019.000000  37926.000000"
      ]
     },
     "execution_count": 13,
     "metadata": {},
     "output_type": "execute_result"
    }
   ],
   "source": [
    "import pandas as pd \n",
    "\n",
    "amazonfires = pd.read_csv('brazilian_amazon_fires_1999_2019.csv')\n",
    "\n",
    "amazonfires[[\"year\",\"firespots\"]].describe()"
   ]
  },
  {
   "cell_type": "code",
   "execution_count": 39,
   "metadata": {},
   "outputs": [
    {
     "name": "stdout",
     "output_type": "stream",
     "text": [
      "state\n",
      "PARA           942283\n",
      "MATO GROSSO    595378\n",
      "RONDONIA       340517\n",
      "AMAZONAS       188483\n",
      "MARANHAO       160543\n",
      "ACRE           126471\n",
      "RORAIMA         46981\n",
      "AMAPA           39337\n",
      "TOCANTINS       16254\n",
      "Name: firespots, dtype: int64\n"
     ]
    },
    {
     "data": {
      "text/plain": [
       "<function matplotlib.pyplot.show(close=None, block=None)>"
      ]
     },
     "execution_count": 39,
     "metadata": {},
     "output_type": "execute_result"
    },
    {
     "data": {
      "image/png": "[encoded data removed]",
      "text/plain": [
       "<Figure size 1000x600 with 1 Axes>"
      ]
     },
     "metadata": {},
     "output_type": "display_data"
    }
   ],
   "source": [
    "import pandas as pd \n",
    "import matplotlib.pyplot as plt\n",
    "\n",
    "amazonfires = pd.read_csv('brazilian_amazon_fires_1999_2019.csv')\n",
    "\n",
    "fires_by_state = amazonfires.groupby(\"state\")[\"firespots\"].sum().sort_values(ascending=False)\n",
    "\n",
    "print (fires_by_state)\n",
    "#grouping the data by 'state' and sum the number of 'firespots'\n",
    "#sorting the results by the number of firespots in descending order\n",
    "#checking if it's correct\n",
    "\n",
    "plt.figure(figsize=(10, 6))  \n",
    "#plot the results using a bar plot\n",
    "plt.bar(fires_by_state.index, fires_by_state.values, color='pink')\n",
    "#remember in the lecture example we used plt.plot for a basic line plot but now we need a bar , follow that example to set color too\n",
    "\n",
    "plt.xlabel(\"State\")\n",
    "plt.ylabel(\"Total firespots\")\n",
    "plt.title(\"Total firespots by state in the Brazillian amazon by state, (1999-2019)\")\n",
    "#show your plot\n",
    "\n",
    "plt.show"
   ]
  }
 ],
 "metadata": {
  "kernelspec": {
   "display_name": "daz-venv",
   "language": "python",
   "name": "python3"
  },
  "language_info": {
   "codemirror_mode": {
    "name": "ipython",
    "version": 3
   },
   "file_extension": ".py",
   "mimetype": "text/x-python",
   "name": "python",
   "nbconvert_exporter": "python",
   "pygments_lexer": "ipython3",
   "version": "3.11.9"
  }
 },
 "nbformat": 4,
 "nbformat_minor": 2
}
